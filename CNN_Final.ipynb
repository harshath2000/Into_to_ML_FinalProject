{
  "cells": [
    {
      "cell_type": "markdown",
      "metadata": {
        "id": "view-in-github",
        "colab_type": "text"
      },
      "source": [
        "<a href=\"https://colab.research.google.com/github/harshath2000/Into_to_ML_FinalProject/blob/main/CNN_Final.ipynb\" target=\"_parent\"><img src=\"https://colab.research.google.com/assets/colab-badge.svg\" alt=\"Open In Colab\"/></a>"
      ]
    },
    {
      "cell_type": "code",
      "execution_count": 1,
      "id": "659c85b8-eb74-44f7-a709-3494fec734e1",
      "metadata": {
        "id": "659c85b8-eb74-44f7-a709-3494fec734e1"
      },
      "outputs": [],
      "source": [
        "import torch\n",
        "import torch.nn as nn\n",
        "import torch.optim as optim\n",
        "from torch.utils.data import DataLoader, TensorDataset\n",
        "from sklearn.model_selection import train_test_split\n",
        "from sklearn.preprocessing import LabelEncoder, StandardScaler\n",
        "import pandas as pd\n",
        "import numpy as np\n"
      ]
    },
    {
      "cell_type": "code",
      "execution_count": 2,
      "id": "f5521d44-e02b-4bbc-9382-4bc3842e7a30",
      "metadata": {
        "colab": {
          "base_uri": "https://localhost:8080/"
        },
        "id": "f5521d44-e02b-4bbc-9382-4bc3842e7a30",
        "outputId": "721f59a6-6140-420d-aa36-f49297539741"
      },
      "outputs": [
        {
          "output_type": "stream",
          "name": "stdout",
          "text": [
            "Using device: cpu\n"
          ]
        }
      ],
      "source": [
        "# Check if GPU is available and set device\n",
        "device = torch.device(\"cuda\" if torch.cuda.is_available() else \"cpu\")\n",
        "print(f\"Using device: {device}\")"
      ]
    },
    {
      "cell_type": "code",
      "execution_count": 3,
      "id": "73290e39-1a8b-4783-8822-256838d423f1",
      "metadata": {
        "id": "73290e39-1a8b-4783-8822-256838d423f1"
      },
      "outputs": [],
      "source": [
        "df = pd.read_csv('/content/train_dataframe.csv')\n",
        "test_df = pd.read_csv('/content/test_dataframe.csv')\n",
        "\n"
      ]
    },
    {
      "cell_type": "code",
      "execution_count": 4,
      "id": "7e252a52-9ce0-45c6-9912-94f40fa2de9d",
      "metadata": {
        "id": "7e252a52-9ce0-45c6-9912-94f40fa2de9d"
      },
      "outputs": [],
      "source": [
        "# Assuming `df` is your training DataFrame and `test_df` is your testing DataFrame\n",
        "X = df.drop('label', axis=1).values\n",
        "y = df['label'].values\n",
        "sc = StandardScaler()\n",
        "X = sc.fit_transform(X)\n",
        "# Encode labels\n",
        "label_encoder = LabelEncoder()\n",
        "y_encoded = label_encoder.fit_transform(y)\n",
        "\n",
        "# Determine the number of classes and input shape\n",
        "num_classes = len(set(y_encoded))\n",
        "input_shape = X.shape[1]\n",
        "\n",
        "\n",
        "# Split data into training and testing sets for the training dataset\n",
        "X_train, X_val, y_train, y_val = train_test_split(X, y_encoded, test_size=0.2, random_state=42)\n",
        "\n",
        "X_train_tensor = torch.Tensor(X_train).unsqueeze(1).to(device)\n",
        "y_train_tensor = torch.Tensor(y_train).long().to(device)\n",
        "X_val_tensor = torch.Tensor(X_val).unsqueeze(1).to(device)\n",
        "y_val_tensor = torch.Tensor(y_val).long().to(device)\n",
        "\n",
        "# Create dataset and dataloader for training\n",
        "train_dataset = TensorDataset(X_train_tensor, y_train_tensor)\n",
        "train_loader = DataLoader(train_dataset, batch_size=32, shuffle=True)"
      ]
    },
    {
      "cell_type": "code",
      "execution_count": 5,
      "id": "b4ecd113-757d-4b4b-a6f8-d4ea75715a56",
      "metadata": {
        "id": "b4ecd113-757d-4b4b-a6f8-d4ea75715a56"
      },
      "outputs": [],
      "source": [
        "\n",
        "import torch.nn.functional as F\n",
        "\n",
        "\n",
        "class ResidualBlock(nn.Module):\n",
        "    expansion = 1  # Set the expansion factor for the residual block\n",
        "\n",
        "    def __init__(self, in_channels, out_channels, stride=1, downsample=None, dropout_prob=0.8):\n",
        "        super(ResidualBlock, self).__init__()\n",
        "        self.conv1 = nn.Conv1d(in_channels, out_channels, kernel_size=3, stride=stride, padding=1)\n",
        "        self.bn1 = nn.BatchNorm1d(out_channels)\n",
        "        self.relu = nn.ReLU(inplace=True)\n",
        "        self.dropout = nn.Dropout(dropout_prob)  # Dropout layer\n",
        "        self.conv2 = nn.Conv1d(out_channels, out_channels, kernel_size=3, padding=1)\n",
        "        self.bn2 = nn.BatchNorm1d(out_channels)\n",
        "        self.downsample = downsample\n",
        "\n",
        "    def forward(self, x):\n",
        "        identity = x\n",
        "        out = self.conv1(x)\n",
        "        out = self.bn1(out)\n",
        "        out = self.relu(out)\n",
        "        out = self.dropout(out)  # Apply dropout\n",
        "        out = self.conv2(out)\n",
        "        out = self.bn2(out)\n",
        "\n",
        "        if self.downsample is not None:\n",
        "            identity = self.downsample(x)\n",
        "\n",
        "        out += identity\n",
        "        out = self.relu(out)\n",
        "        out = self.dropout(out)  # Apply dropout\n",
        "        return out\n",
        "\n",
        "class ResNetAudio(nn.Module):\n",
        "    def __init__(self, block, num_classes, dropout_prob=0.3):\n",
        "        super(ResNetAudio, self).__init__()\n",
        "        self.in_channels = 64\n",
        "        self.conv = nn.Conv1d(1, 64, kernel_size=7, stride=1, padding=3)\n",
        "        self.bn = nn.BatchNorm1d(64)\n",
        "        self.relu = nn.ReLU(inplace=True)\n",
        "        self.layer1 = self._make_layer(block, 32, 2, dropout_prob=dropout_prob)\n",
        "        self.layer2 = self._make_layer(block, 64, 2, stride=2, dropout_prob=dropout_prob)\n",
        "        self.layer3 = self._make_layer(block, 128, 2, stride=2, dropout_prob=dropout_prob)\n",
        "        self.layer4 = self._make_layer(block, 256, 2, stride=2, dropout_prob=dropout_prob)\n",
        "        self.avg_pool = nn.AdaptiveAvgPool1d(1)\n",
        "        self.fc = nn.Linear(256 * block.expansion, num_classes)  # Adjusted input size for the fully connected layer\n",
        "        self.dropout = nn.Dropout(dropout_prob)  # Dropout layer\n",
        "\n",
        "    def _make_layer(self, block, out_channels, blocks, stride=1, dropout_prob=0.5):\n",
        "        downsample = None\n",
        "        if stride != 1 or self.in_channels != out_channels * block.expansion:\n",
        "            downsample = nn.Sequential(\n",
        "                nn.Conv1d(self.in_channels, out_channels * block.expansion, kernel_size=1, stride=stride),\n",
        "                nn.BatchNorm1d(out_channels * block.expansion),\n",
        "            )\n",
        "\n",
        "        layers = []\n",
        "        layers.append(block(self.in_channels, out_channels, stride, downsample, dropout_prob=dropout_prob))\n",
        "        self.in_channels = out_channels * block.expansion\n",
        "        for _ in range(1, blocks):\n",
        "            layers.append(block(out_channels * block.expansion, out_channels, dropout_prob=dropout_prob))\n",
        "\n",
        "        return nn.Sequential(*layers)\n",
        "\n",
        "    def forward(self, x):\n",
        "        x = self.conv(x)\n",
        "        x = self.bn(x)\n",
        "        x = self.relu(x)\n",
        "        x = self.layer1(x)\n",
        "        x = self.layer2(x)\n",
        "        x = self.layer3(x)\n",
        "        x = self.layer4(x)\n",
        "        x = self.avg_pool(x)\n",
        "        x = x.view(x.size(0), -1)\n",
        "        x = self.dropout(x)  # Apply dropout\n",
        "        x = self.fc(x)\n",
        "        return x"
      ]
    },
    {
      "cell_type": "code",
      "execution_count": 6,
      "id": "638f287c-5267-4572-9a1e-92a43c7f8f17",
      "metadata": {
        "id": "638f287c-5267-4572-9a1e-92a43c7f8f17"
      },
      "outputs": [],
      "source": [
        "import torch\n",
        "import torch.nn as nn\n",
        "from sklearn.utils.class_weight import compute_class_weight\n",
        "# Assuming you have defined your train_loader, X_val_tensor, y_val_tensor, and other necessary variables\n",
        "\n",
        "model = ResNetAudio(ResidualBlock, num_classes=num_classes).to(device)\n",
        "\n",
        "class_weights = compute_class_weight('balanced', classes=np.unique(y_train), y=y_train)\n",
        "class_weights_tensor = torch.tensor(class_weights, dtype=torch.float).to(device)\n",
        "\n",
        "criterion = nn.CrossEntropyLoss()\n",
        "optimizer = optim.Adam(model.parameters(), lr=0.0001)"
      ]
    },
    {
      "cell_type": "code",
      "execution_count": null,
      "id": "2317c526-86bb-4048-a334-483b7cbb3006",
      "metadata": {
        "colab": {
          "base_uri": "https://localhost:8080/"
        },
        "id": "2317c526-86bb-4048-a334-483b7cbb3006",
        "outputId": "7dfcb193-c9ca-40c4-e5f4-fa9926319a40"
      },
      "outputs": [
        {
          "output_type": "stream",
          "name": "stdout",
          "text": [
            "Epoch 1, Loss: 0.05878860185355573, Train Accuracy: 26.088373040114032%, Val Accuracy: 31.12884834663626%\n",
            "Epoch 101, Loss: 0.03702617951406527, Train Accuracy: 55.08043168397475%, Val Accuracy: 64.73366997882391%\n"
          ]
        }
      ],
      "source": [
        "from torch.optim import lr_scheduler\n",
        "\n",
        "scheduler = lr_scheduler.StepLR(optimizer, step_size=350, gamma=2)\n",
        "\n",
        "num_epochs = 1500\n",
        "for epoch in range(num_epochs):\n",
        "    model.train()\n",
        "    running_loss = 0.0\n",
        "    correct_train_predictions = 0\n",
        "    total_train_predictions = 0\n",
        "\n",
        "    for inputs, labels in train_loader:\n",
        "        inputs, labels = inputs.to(device), labels.to(device)  # Move data to GPU\n",
        "\n",
        "        optimizer.zero_grad()\n",
        "\n",
        "        # Forward pass\n",
        "        outputs = model(inputs)\n",
        "        loss = criterion(outputs, labels)\n",
        "        loss.backward()\n",
        "        optimizer.step()\n",
        "\n",
        "        # Accumulate training loss and accuracy\n",
        "        running_loss += loss.item()\n",
        "        _, predicted = torch.max(outputs, 1)\n",
        "        correct_train_predictions += (predicted == labels).sum().item()\n",
        "        total_train_predictions += labels.size(0)\n",
        "\n",
        "    train_accuracy = correct_train_predictions / total_train_predictions * 100\n",
        "\n",
        "    # Update the learning rate\n",
        "    scheduler.step()\n",
        "\n",
        "    # Validation accuracy\n",
        "    if epoch % 100 == 0:\n",
        "        model.eval()  # Set the model to evaluation mode\n",
        "        correct_val_predictions = 0\n",
        "        total_val_predictions = 0\n",
        "        with torch.no_grad():\n",
        "            val_outputs = model(X_val_tensor)\n",
        "            _, predicted = torch.max(val_outputs, 1)\n",
        "            correct_val_predictions += (predicted == y_val_tensor).sum().item()\n",
        "            total_val_predictions += y_val_tensor.size(0)\n",
        "\n",
        "        test_accuracy = correct_val_predictions / total_val_predictions * 100\n",
        "        model.train()  # Set the model back to training mode\n",
        "        print(f\"Epoch {epoch + 1}, Loss: {running_loss / total_train_predictions}, Train Accuracy: {train_accuracy}%, Val Accuracy: {test_accuracy}%\")\n"
      ]
    },
    {
      "cell_type": "code",
      "execution_count": 11,
      "id": "91e6fc4e-9cd1-4fb9-baa4-cc1b17e13935",
      "metadata": {
        "colab": {
          "base_uri": "https://localhost:8080/",
          "height": 1000
        },
        "id": "91e6fc4e-9cd1-4fb9-baa4-cc1b17e13935",
        "outputId": "5049970a-7f61-4311-9ea1-693dbbdf6e81"
      },
      "outputs": [
        {
          "output_type": "stream",
          "name": "stderr",
          "text": [
            "/usr/local/lib/python3.10/dist-packages/sklearn/metrics/_classification.py:1471: UndefinedMetricWarning: Precision and F-score are ill-defined and being set to 0.0 in labels with no predicted samples. Use `zero_division` parameter to control this behavior.\n",
            "  _warn_prf(average, modifier, msg_start, len(result))\n",
            "/usr/local/lib/python3.10/dist-packages/sklearn/metrics/_classification.py:1471: UndefinedMetricWarning: Precision and F-score are ill-defined and being set to 0.0 in labels with no predicted samples. Use `zero_division` parameter to control this behavior.\n",
            "  _warn_prf(average, modifier, msg_start, len(result))\n",
            "/usr/local/lib/python3.10/dist-packages/sklearn/metrics/_classification.py:1471: UndefinedMetricWarning: Precision and F-score are ill-defined and being set to 0.0 in labels with no predicted samples. Use `zero_division` parameter to control this behavior.\n",
            "  _warn_prf(average, modifier, msg_start, len(result))\n"
          ]
        },
        {
          "output_type": "stream",
          "name": "stdout",
          "text": [
            "Classification Report:\n",
            "               precision    recall  f1-score   support\n",
            "\n",
            "    eighties       0.00      1.00      0.01         5\n",
            "     fifties       0.00      0.00      0.00       205\n",
            "    fourties       0.00      0.00      0.00       236\n",
            "   seventies       0.00      0.00      0.00        36\n",
            "     sixties       0.00      0.00      0.00        88\n",
            "       teens       0.00      0.00      0.00       117\n",
            "    thirties       0.00      0.00      0.00       389\n",
            "    twenties       0.00      0.00      0.00       466\n",
            "\n",
            "    accuracy                           0.00      1542\n",
            "   macro avg       0.00      0.12      0.00      1542\n",
            "weighted avg       0.00      0.00      0.00      1542\n",
            "\n",
            "Confusion Matrix:\n",
            " [[  5   0   0   0   0   0   0   0]\n",
            " [205   0   0   0   0   0   0   0]\n",
            " [236   0   0   0   0   0   0   0]\n",
            " [ 36   0   0   0   0   0   0   0]\n",
            " [ 88   0   0   0   0   0   0   0]\n",
            " [117   0   0   0   0   0   0   0]\n",
            " [389   0   0   0   0   0   0   0]\n",
            " [466   0   0   0   0   0   0   0]]\n"
          ]
        },
        {
          "output_type": "display_data",
          "data": {
            "text/plain": [
              "<Figure size 800x600 with 2 Axes>"
            ],
            "image/png": "[encoded data removed]"
          },
          "metadata": {}
        }
      ],
      "source": [
        "from sklearn.metrics import classification_report, confusion_matrix\n",
        "import seaborn as sns\n",
        "import matplotlib.pyplot as plt\n",
        "\n",
        "# Assuming you have defined your model and label_encoder before this point\n",
        "\n",
        "# Assuming 'test_df' is your test dataset\n",
        "\n",
        "# Convert the test data to PyTorch tensors and move to GPU\n",
        "X_test = test_df.drop('label', axis=1).values\n",
        "X_test = sc.fit_transform(X_test)\n",
        "y_test = test_df['label'].values\n",
        "y_test_encoded = label_encoder.transform(y_test)\n",
        "\n",
        "X_test_tensor = torch.Tensor(X_test).unsqueeze(1).to(device)\n",
        "y_test_tensor = torch.Tensor(y_test_encoded).long().to(device)\n",
        "\n",
        "# Evaluate the model on the test dataset\n",
        "model.eval()\n",
        "with torch.no_grad():\n",
        "    test_outputs = model(X_test_tensor)\n",
        "    _, predicted = torch.max(test_outputs, 1)\n",
        "    predicted = predicted.cpu().numpy()\n",
        "    y_test_encoded = y_test_encoded.astype(int)\n",
        "\n",
        "# Generate a classification report\n",
        "report = classification_report(y_test_encoded, predicted, target_names=label_encoder.classes_)\n",
        "print(\"Classification Report:\\n\", report)\n",
        "\n",
        "# Generate a confusion matrix\n",
        "conf_matrix = confusion_matrix(y_test_encoded, predicted)\n",
        "print(\"Confusion Matrix:\\n\", conf_matrix)\n",
        "\n",
        "# Plot the confusion matrix using seaborn\n",
        "plt.figure(figsize=(8, 6))\n",
        "sns.heatmap(conf_matrix, annot=True, fmt='d', cmap='Blues', xticklabels=label_encoder.classes_, yticklabels=label_encoder.classes_)\n",
        "plt.title('Confusion Matrix')\n",
        "plt.xlabel('Predicted')\n",
        "plt.ylabel('True')\n",
        "plt.show()\n"
      ]
    },
    {
      "cell_type": "code",
      "execution_count": null,
      "id": "92832613-de8c-4dbd-84ba-279c9c11ecde",
      "metadata": {
        "id": "92832613-de8c-4dbd-84ba-279c9c11ecde"
      },
      "outputs": [],
      "source": []
    }
  ],
  "metadata": {
    "accelerator": "GPU",
    "colab": {
      "gpuType": "T4",
      "provenance": [],
      "include_colab_link": true
    },
    "kernelspec": {
      "display_name": "Python 3 (ipykernel)",
      "language": "python",
      "name": "python3"
    },
    "language_info": {
      "codemirror_mode": {
        "name": "ipython",
        "version": 3
      },
      "file_extension": ".py",
      "mimetype": "text/x-python",
      "name": "python",
      "nbconvert_exporter": "python",
      "pygments_lexer": "ipython3",
      "version": "3.9.8"
    }
  },
  "nbformat": 4,
  "nbformat_minor": 5
}