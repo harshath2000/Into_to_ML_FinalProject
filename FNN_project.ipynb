{
  "cells": [
    {
      "cell_type": "markdown",
      "metadata": {
        "id": "view-in-github",
        "colab_type": "text"
      },
      "source": [
        "<a href=\"https://colab.research.google.com/github/harshath2000/Into_to_ML_FinalProject/blob/main/FNN_project.ipynb\" target=\"_parent\"><img src=\"https://colab.research.google.com/assets/colab-badge.svg\" alt=\"Open In Colab\"/></a>"
      ]
    },
    {
      "cell_type": "code",
      "execution_count": 1,
      "metadata": {
        "colab": {
          "base_uri": "https://localhost:8080/"
        },
        "id": "UEGxrIZ8LeQs",
        "outputId": "9783ee47-8ce0-4561-82a8-7ed06e4de49a"
      },
      "outputs": [
        {
          "output_type": "execute_result",
          "data": {
            "text/plain": [
              "<torch._C.Generator at 0x7809dc7d4130>"
            ]
          },
          "metadata": {},
          "execution_count": 1
        }
      ],
      "source": [
        "import numpy as np\n",
        "import matplotlib.pyplot as plt\n",
        "from scipy import stats\n",
        "import pandas as pd\n",
        "import torch\n",
        "from torch.utils.data import DataLoader, TensorDataset\n",
        "from sklearn.model_selection import train_test_split\n",
        "from sklearn.preprocessing import StandardScaler\n",
        "from sklearn.preprocessing import MinMaxScaler\n",
        "from sklearn.metrics import accuracy_score\n",
        "import torch.optim as optim\n",
        "torch.set_printoptions(edgeitems=2, linewidth=75)\n",
        "torch.manual_seed(123)"
      ]
    },
    {
      "cell_type": "code",
      "execution_count": 2,
      "metadata": {
        "id": "OEhtIax5VQBq"
      },
      "outputs": [],
      "source": [
        "from sklearn.metrics import accuracy_score, classification_report"
      ]
    },
    {
      "cell_type": "code",
      "source": [
        "device = torch.device(\"cuda\" if torch.cuda.is_available() else \"cpu\")\n",
        "print(\"Using device:\", device)"
      ],
      "metadata": {
        "colab": {
          "base_uri": "https://localhost:8080/"
        },
        "id": "CdZ_3-rt4HrD",
        "outputId": "b49b3a87-0281-4f7b-e70e-a3787d310613"
      },
      "execution_count": 3,
      "outputs": [
        {
          "output_type": "stream",
          "name": "stdout",
          "text": [
            "Using device: cpu\n"
          ]
        }
      ]
    },
    {
      "cell_type": "code",
      "execution_count": 4,
      "metadata": {
        "id": "WU9Efz2eLmw7"
      },
      "outputs": [],
      "source": [
        "# Load the data from the URL\n",
        "data_url = \"/content/train_dataframe.csv\"\n",
        "data = pd.read_csv(data_url)\n",
        "\n",
        "# Remove the 'label' column and store it separately\n",
        "removed_column = data.pop('label')  # Assuming 'label' is the name of the column to be removed\n",
        "Y = pd.DataFrame({'age group': removed_column})\n",
        "\n",
        "# Remaining data\n",
        "X = data.values\n",
        "\n"
      ]
    },
    {
      "cell_type": "code",
      "execution_count": 5,
      "metadata": {
        "colab": {
          "base_uri": "https://localhost:8080/"
        },
        "id": "OdSfjliihL6f",
        "outputId": "64a04bec-1324-4a8e-c0fb-b45aff9bab34"
      },
      "outputs": [
        {
          "output_type": "execute_result",
          "data": {
            "text/plain": [
              "(30694, 23)"
            ]
          },
          "metadata": {},
          "execution_count": 5
        }
      ],
      "source": [
        "sc = StandardScaler()\n",
        "X = sc.fit_transform(X)\n",
        "X.shape"
      ]
    },
    {
      "cell_type": "code",
      "execution_count": 6,
      "metadata": {
        "colab": {
          "base_uri": "https://localhost:8080/"
        },
        "id": "Q39k1NojWTRQ",
        "outputId": "1df8f3de-d053-4378-e3e8-a13103a07ce0"
      },
      "outputs": [
        {
          "output_type": "execute_result",
          "data": {
            "text/plain": [
              "(30694,)"
            ]
          },
          "metadata": {},
          "execution_count": 6
        }
      ],
      "source": [
        "label_mapping = {label: idx for idx, label in enumerate(np.unique(Y['age group']))}\n",
        "Y = np.array([label_mapping[label] for label in Y['age group']])\n",
        "X = torch.tensor(X, dtype=torch.float32)\n",
        "Y.shape"
      ]
    },
    {
      "cell_type": "code",
      "execution_count": 7,
      "metadata": {
        "id": "Pmpdc4EUVRLw"
      },
      "outputs": [],
      "source": [
        "# Split the data into training and testing sets\n",
        "X_train, X_test, y_train, y_test = train_test_split(X, Y, test_size=0.2, random_state=42)\n",
        "\n",
        "# Convert NumPy arrays to PyTorch tensors\n",
        "X_train_tensor = torch.FloatTensor(X_train)\n",
        "y_train_tensor = torch.LongTensor(y_train)\n",
        "X_test_tensor = torch.FloatTensor(X_test)\n",
        "y_test_tensor = torch.LongTensor(y_test)\n",
        "\n",
        "\n",
        "\n",
        "\n",
        "\n"
      ]
    },
    {
      "cell_type": "code",
      "execution_count": 8,
      "metadata": {
        "id": "QaXYx0MQZJvz"
      },
      "outputs": [],
      "source": [
        "\n",
        "import torch.nn as nn\n",
        "import torch.optim as optim\n",
        "import numpy as np\n",
        "class SimpleNN(nn.Module):\n",
        "    def __init__(self, input_size, hidden_size, output_size):\n",
        "        super(SimpleNN, self).__init__()\n",
        "        self.fc1 = nn.Linear(input_size, hidden_size)\n",
        "        self.fc2 = nn.Linear(hidden_size, hidden_size)  # Using hidden_size here too\n",
        "        self.fc3 = nn.Linear(hidden_size, hidden_size)  # And here\n",
        "        self.fc4 = nn.Linear(hidden_size, output_size)\n",
        "        self.relu = nn.ReLU()\n",
        "        # Dropout layer to prevent overfitting\n",
        "        self.dropout = nn.Dropout(p=0.2)\n",
        "\n",
        "    def forward(self, x):\n",
        "        x = self.relu(self.fc1(x))\n",
        "        x = self.dropout(x)\n",
        "        x = self.relu(self.fc2(x))\n",
        "        x = self.dropout(x)\n",
        "        x = self.relu(self.fc3(x))\n",
        "        x = self.dropout(x)\n",
        "        x = self.fc4(x)\n",
        "        return x\n",
        "\n",
        "\n"
      ]
    },
    {
      "cell_type": "code",
      "source": [
        "from sklearn.utils.class_weight import compute_class_weight\n",
        "\n",
        "def compute_class_weights(y):\n",
        "    class_weights = compute_class_weight(  class_weight = 'balanced', classes = np.unique(y),y =  y)\n",
        "    return class_weights\n",
        "\n",
        "# Calculate class weights based on class distribution\n",
        "class_weights = compute_class_weights(y_train)\n",
        "\n",
        "# Convert class weights to a PyTorch tensor\n",
        "class_weights_tensor =  torch.FloatTensor(class_weights).to(device)\n",
        "\n",
        "# Use weighted cross-entropy loss\n",
        "criterion = nn.CrossEntropyLoss(weight=class_weights_tensor)\n"
      ],
      "metadata": {
        "id": "3PdP3t7J6Sks"
      },
      "execution_count": 9,
      "outputs": []
    },
    {
      "cell_type": "code",
      "execution_count": 10,
      "metadata": {
        "id": "knFfUd97ZLw1"
      },
      "outputs": [],
      "source": [
        "input_size = X_train.shape[1]\n",
        "hidden_size = 128  # You can adjust this based on your problem\n",
        "output_size = len(np.unique(y_train))\n",
        "# Now, when instantiating the model, it should match:\n",
        "model = SimpleNN(input_size, hidden_size, output_size).to(device)\n",
        "X_train_tensor = X_train_tensor.to(device)  # Move training data to GPU\n",
        "y_train_tensor = y_train_tensor.to(device)\n",
        "X_test_tensor = X_test_tensor.to(device)  # Move test data to GPU\n",
        "y_test_tensor = y_test_tensor.to(device)\n",
        "optimizer = optim.SGD(model.parameters(), lr=0.01)"
      ]
    },
    {
      "cell_type": "code",
      "execution_count": null,
      "metadata": {
        "id": "q55KSqotXs4c",
        "colab": {
          "base_uri": "https://localhost:8080/"
        },
        "outputId": "1c54853b-85f7-4ccc-a92e-a9fe049cbe71"
      },
      "outputs": [
        {
          "output_type": "stream",
          "name": "stdout",
          "text": [
            "Epoch [100/500], Loss: 1.2152, Training Accuracy: 65.61%, Validation Accuracy: 59.94%\n",
            "Epoch [200/500], Loss: 0.7394, Training Accuracy: 74.33%, Validation Accuracy: 66.64%\n",
            "Epoch [300/500], Loss: 0.5854, Training Accuracy: 77.65%, Validation Accuracy: 68.61%\n",
            "Epoch [400/500], Loss: 0.5027, Training Accuracy: 79.44%, Validation Accuracy: 69.64%\n",
            "Epoch [500/500], Loss: 0.6261, Training Accuracy: 80.89%, Validation Accuracy: 69.70%\n"
          ]
        }
      ],
      "source": [
        "num_epochs = 500\n",
        "batch_size = 32\n",
        "for epoch in range(num_epochs):\n",
        "    model.train()\n",
        "    for i in range(0, len(X_train_tensor), batch_size):\n",
        "        inputs = X_train_tensor[i:i+batch_size]\n",
        "        labels = y_train_tensor[i:i+batch_size]\n",
        "\n",
        "        # Forward pass\n",
        "        outputs = model(inputs)\n",
        "        loss = criterion(outputs, labels)\n",
        "\n",
        "        # Backward pass and optimization\n",
        "        optimizer.zero_grad()\n",
        "        loss.backward()\n",
        "        optimizer.step()\n",
        "\n",
        "    if (epoch + 1) % 100 == 0:\n",
        "        model.eval()\n",
        "        with torch.no_grad():\n",
        "            train_outputs = model(X_train_tensor)\n",
        "            val_outputs = model(X_test_tensor)\n",
        "            _, train_predicted = torch.max(train_outputs, 1)\n",
        "            train_accuracy = accuracy_score(y_train, train_predicted.cpu().numpy())\n",
        "            _, test_predicted = torch.max(val_outputs, 1)\n",
        "            test_accuracy = accuracy_score(y_test, test_predicted.cpu().numpy())  # Move back to CPU for metrics\n",
        "            print(f'Epoch [{epoch+1}/{num_epochs}], Loss: {loss.item():.4f}, Training Accuracy: {train_accuracy * 100:.2f}%, Validation Accuracy: {test_accuracy * 100:.2f}%')\n",
        "        model.train()"
      ]
    },
    {
      "cell_type": "code",
      "source": [
        "# Load the data from the URL\n",
        "data_url = \"/content/test_dataframe.csv\"\n",
        "data = pd.read_csv(data_url)\n",
        "\n",
        "# Remove the 'label' column and store it separately\n",
        "removed_column = data.pop('label')  # Assuming 'label' is the name of the column to be removed\n",
        "Y = pd.DataFrame({'age group': removed_column})\n",
        "\n",
        "# Remaining data\n",
        "X = data.values\n",
        "sc = StandardScaler()\n",
        "X = sc.fit_transform(X)\n",
        "label_mapping = {label: idx for idx, label in enumerate(np.unique(Y['age group']))}\n",
        "y_test = np.array([label_mapping[label] for label in Y['age group']])\n",
        "X_test= torch.tensor(X, dtype=torch.float32)\n",
        "X_test_tensor = torch.FloatTensor(X_test)\n",
        "X_test_tensor = X_test_tensor.to(device)"
      ],
      "metadata": {
        "id": "6rwl6-JCj1yB"
      },
      "execution_count": 11,
      "outputs": []
    },
    {
      "cell_type": "code",
      "execution_count": 12,
      "metadata": {
        "colab": {
          "base_uri": "https://localhost:8080/"
        },
        "id": "8Y2vHwWOXw_d",
        "outputId": "f5274a5a-4414-4a61-d8f0-fc84372697a4"
      },
      "outputs": [
        {
          "output_type": "stream",
          "name": "stdout",
          "text": [
            "Accuracy on the test set: 26.59%\n",
            "[7 7 7 ... 7 7 7]\n",
            "              precision    recall  f1-score   support\n",
            "\n",
            "    eighties       0.00      0.00      0.00         5\n",
            "     fifties       0.17      0.08      0.11       205\n",
            "    fourties       0.00      0.00      0.00       236\n",
            "   seventies       0.01      0.03      0.01        36\n",
            "     sixties       0.00      0.00      0.00        88\n",
            "       teens       0.00      0.00      0.00       117\n",
            "    thirties       0.00      0.00      0.00       389\n",
            "    twenties       0.30      0.84      0.44       466\n",
            "\n",
            "    accuracy                           0.27      1542\n",
            "   macro avg       0.06      0.12      0.07      1542\n",
            "weighted avg       0.11      0.27      0.15      1542\n",
            "\n"
          ]
        },
        {
          "output_type": "stream",
          "name": "stderr",
          "text": [
            "/usr/local/lib/python3.10/dist-packages/sklearn/metrics/_classification.py:1471: UndefinedMetricWarning: Precision and F-score are ill-defined and being set to 0.0 in labels with no predicted samples. Use `zero_division` parameter to control this behavior.\n",
            "  _warn_prf(average, modifier, msg_start, len(result))\n",
            "/usr/local/lib/python3.10/dist-packages/sklearn/metrics/_classification.py:1471: UndefinedMetricWarning: Precision and F-score are ill-defined and being set to 0.0 in labels with no predicted samples. Use `zero_division` parameter to control this behavior.\n",
            "  _warn_prf(average, modifier, msg_start, len(result))\n",
            "/usr/local/lib/python3.10/dist-packages/sklearn/metrics/_classification.py:1471: UndefinedMetricWarning: Precision and F-score are ill-defined and being set to 0.0 in labels with no predicted samples. Use `zero_division` parameter to control this behavior.\n",
            "  _warn_prf(average, modifier, msg_start, len(result))\n"
          ]
        }
      ],
      "source": [
        "model.eval()\n",
        "with torch.no_grad():\n",
        "    outputs = model(X_test_tensor)\n",
        "    _, predicted = torch.max(outputs, 1)\n",
        "    accuracy = accuracy_score(y_test, predicted.cpu().numpy())  # Move back to CPU for metrics\n",
        "    print(f'Accuracy on the test set: {accuracy * 100:.2f}%')\n",
        "\n",
        "# Convert predicted labels back to original age group strings\n",
        "predicted_labels = [label for label, idx in label_mapping.items() if idx in y_test]\n",
        "print(predicted.cpu().numpy())\n",
        "print(classification_report(y_test, predicted.cpu().numpy(), target_names=predicted_labels))"
      ]
    }
  ],
  "metadata": {
    "colab": {
      "provenance": [],
      "gpuType": "T4",
      "include_colab_link": true
    },
    "kernelspec": {
      "display_name": "Python 3",
      "name": "python3"
    },
    "language_info": {
      "name": "python"
    },
    "accelerator": "GPU"
  },
  "nbformat": 4,
  "nbformat_minor": 0
}